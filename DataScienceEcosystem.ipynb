{
  "nbformat": 4,
  "nbformat_minor": 0,
  "metadata": {
    "colab": {
      "provenance": []
    },
    "kernelspec": {
      "name": "python3",
      "display_name": "Python 3"
    },
    "language_info": {
      "name": "python"
    }
  },
  "cells": [
    {
      "cell_type": "markdown",
      "source": [
        "# Data Science Tools and Ecosystem"
      ],
      "metadata": {
        "id": "cQJ_qsN15lSt"
      }
    },
    {
      "cell_type": "markdown",
      "source": [
        "In this notebook will be summarized a generic overview of some data science tools and about the ecosystems."
      ],
      "metadata": {
        "id": "FNZt3E6Y6ggs"
      }
    },
    {
      "cell_type": "markdown",
      "source": [
        "**Objectives**\n",
        "\n",
        "* Introdutory Sentence\n",
        "* List of popular languages for Data Science\n",
        "* List of popular libraries Data Science\n"
      ],
      "metadata": {
        "id": "Hc-d8BhjY4Bm"
      }
    },
    {
      "cell_type": "markdown",
      "source": [
        "Some of the popular languages that data scientists use are:\n",
        "\n",
        "1.   Python\n",
        "2.   R\n",
        "3.   Java"
      ],
      "metadata": {
        "id": "5xb3s4BZ7P18"
      }
    },
    {
      "cell_type": "markdown",
      "source": [
        "Some of the commonly used libraries used by data scientists include:\n",
        "\n",
        "1.   Pandas\n",
        "2.   Numpy\n",
        "3.   ScyKit\n",
        "4.   MatPlotLib\n",
        "5.   Plotly\n",
        "6.   PyTorch\n",
        "\n"
      ],
      "metadata": {
        "id": "oxQo3w8r74Qw"
      }
    },
    {
      "cell_type": "markdown",
      "source": [
        "| Data Science Tools |\n",
        "| ------------------ |\n",
        "| Apache Spark |\n",
        "| TensorFlow |\n",
        "| Apache Hadoop |"
      ],
      "metadata": {
        "id": "J0a0gyobUrIZ"
      }
    },
    {
      "cell_type": "markdown",
      "source": [
        "### Below are a few examples of evaluating arithmetic expressions in Python"
      ],
      "metadata": {
        "id": "Xf1VAeWFWLpn"
      }
    },
    {
      "cell_type": "code",
      "source": [
        "# This a simple arithmetic expression to multiply then add integers\n",
        "(3*4)+5"
      ],
      "metadata": {
        "id": "rgHePLymWXvT",
        "colab": {
          "base_uri": "https://localhost:8080/"
        },
        "outputId": "19edb540-d577-425b-b39c-f2356a666a2c"
      },
      "execution_count": 1,
      "outputs": [
        {
          "output_type": "execute_result",
          "data": {
            "text/plain": [
              "17"
            ]
          },
          "metadata": {},
          "execution_count": 1
        }
      ]
    },
    {
      "cell_type": "code",
      "source": [
        "# This will convert 200 minutes to hours by dividing by 60\n",
        "200/60"
      ],
      "metadata": {
        "colab": {
          "base_uri": "https://localhost:8080/"
        },
        "id": "eYn8DP4-Wwzo",
        "outputId": "3aca2050-614e-45c9-b5e9-3f90d851ab9e"
      },
      "execution_count": 2,
      "outputs": [
        {
          "output_type": "execute_result",
          "data": {
            "text/plain": [
              "3.3333333333333335"
            ]
          },
          "metadata": {},
          "execution_count": 2
        }
      ]
    },
    {
      "cell_type": "markdown",
      "source": [
        "## Author\n",
        "Luiz Eduardo Ferro de Oliveira Pantarotti"
      ],
      "metadata": {
        "id": "NfJLLdMyXS9x"
      }
    }
  ]
}